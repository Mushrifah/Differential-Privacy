{
  "nbformat": 4,
  "nbformat_minor": 0,
  "metadata": {
    "colab": {
      "name": "Lesson 3.ipynb",
      "version": "0.3.2",
      "provenance": [],
      "include_colab_link": true
    },
    "kernelspec": {
      "name": "python3",
      "display_name": "Python 3"
    },
    "accelerator": "GPU"
  },
  "cells": [
    {
      "cell_type": "markdown",
      "metadata": {
        "id": "view-in-github",
        "colab_type": "text"
      },
      "source": [
        "<a href=\"https://colab.research.google.com/github/Mushrifah/Secure-and-Private-AI-Scholarship-Challenge/blob/master/Lesson%203-Introducing%20Differential%20Privacy/Lesson_3.ipynb\" target=\"_parent\"><img src=\"https://colab.research.google.com/assets/colab-badge.svg\" alt=\"Open In Colab\"/></a>"
      ]
    },
    {
      "cell_type": "markdown",
      "metadata": {
        "id": "fykcbIdIQJop",
        "colab_type": "text"
      },
      "source": [
        "## Lesson: Toy Differential Privacy - Simple Database Queries"
      ]
    },
    {
      "cell_type": "markdown",
      "metadata": {
        "id": "4s4ffj3NQR0P",
        "colab_type": "text"
      },
      "source": [
        "In this section we're going to play around with Differential Privacy in the context of a database query. The database is going to be a VERY simple database with only one boolean column. Each row corresponds to a person. Each value corresponds to whether or not that person has a certain private attribute (such as whether they have a certain disease, or whether they are above/below a certain age). We are then going to learn how to know whether a database query over such a small database is differentially private or not - and more importantly - what techniques are at our disposal to ensure various levels of privacy\n",
        "​\n",
        "​\n",
        "### First We Create a Simple Database\n",
        "​\n",
        "Step one is to create our database - we're going to do this by initializing a random list of 1s and 0s (which are the entries in our database). Note - the number of entries directly corresponds to the number of people in our database."
      ]
    },
    {
      "cell_type": "code",
      "metadata": {
        "id": "l2woZUtgQMWO",
        "colab_type": "code",
        "outputId": "bce4b695-d661-4497-cd02-3087d1aa3770",
        "colab": {
          "base_uri": "https://localhost:8080/",
          "height": 34
        }
      },
      "source": [
        "import torch\n",
        "\n",
        "# the number of entries in our database\n",
        "num_entries = 5000\n",
        "\n",
        "db = torch.rand(num_entries) > 0.5\n",
        "db"
      ],
      "execution_count": 1,
      "outputs": [
        {
          "output_type": "execute_result",
          "data": {
            "text/plain": [
              "tensor([0, 1, 0,  ..., 1, 0, 1], dtype=torch.uint8)"
            ]
          },
          "metadata": {
            "tags": []
          },
          "execution_count": 1
        }
      ]
    },
    {
      "cell_type": "markdown",
      "metadata": {
        "id": "4p6FL6J-QccR",
        "colab_type": "text"
      },
      "source": [
        "## Project: Generate Parallel Databases\n",
        "\n",
        "Key to the definition of differenital privacy is the ability to ask the question \"When querying a database, if I removed someone from the database, would the output of the query be any different?\". Thus, in order to check this, we must construct what we term \"parallel databases\" which are simply databases with one entry removed. \n",
        "\n",
        "In this first project, I want you to create a list of every parallel database to the one currently contained in the \"db\" variable. Then, I want you to create a function which both:\n",
        "\n",
        "- creates the initial database (db)\n",
        "- creates all parallel databases"
      ]
    },
    {
      "cell_type": "markdown",
      "metadata": {
        "id": "ysG7WG1mQd0s",
        "colab_type": "text"
      },
      "source": [
        "### So to understand things better what we have to exactly do is to create 5000 other databases with eactly one value missing in each that is 5000 parallel databases of length 4999."
      ]
    },
    {
      "cell_type": "code",
      "metadata": {
        "id": "Eo6_pH9dQdDB",
        "colab_type": "code",
        "outputId": "5109c5a4-139e-4d76-e742-be4d3804c96d",
        "colab": {
          "base_uri": "https://localhost:8080/",
          "height": 34
        }
      },
      "source": [
        "db1=torch.rand(num_entries)>0.5\n",
        "db1"
      ],
      "execution_count": 2,
      "outputs": [
        {
          "output_type": "execute_result",
          "data": {
            "text/plain": [
              "tensor([1, 0, 0,  ..., 0, 1, 0], dtype=torch.uint8)"
            ]
          },
          "metadata": {
            "tags": []
          },
          "execution_count": 2
        }
      ]
    },
    {
      "cell_type": "code",
      "metadata": {
        "id": "zH6B0IyvQmfD",
        "colab_type": "code",
        "outputId": "8e6efb02-f1ab-40f9-be8b-8d7ecd346301",
        "colab": {
          "base_uri": "https://localhost:8080/",
          "height": 34
        }
      },
      "source": [
        "db1[0:5]"
      ],
      "execution_count": 3,
      "outputs": [
        {
          "output_type": "execute_result",
          "data": {
            "text/plain": [
              "tensor([1, 0, 0, 1, 0], dtype=torch.uint8)"
            ]
          },
          "metadata": {
            "tags": []
          },
          "execution_count": 3
        }
      ]
    },
    {
      "cell_type": "code",
      "metadata": {
        "id": "EqW_lGT9QmbM",
        "colab_type": "code",
        "colab": {}
      },
      "source": [
        "def get_parallel_db(db,remove_index):\n",
        "  return torch.cat((db[0:remove_index],db[remove_index+1:]))"
      ],
      "execution_count": 0,
      "outputs": []
    },
    {
      "cell_type": "code",
      "metadata": {
        "id": "ggfE7R0SQmW6",
        "colab_type": "code",
        "outputId": "8c5faa44-cfb1-4401-c092-ae18d5cee847",
        "colab": {
          "base_uri": "https://localhost:8080/",
          "height": 34
        }
      },
      "source": [
        "get_parallel_db(db1,0)[0:5]"
      ],
      "execution_count": 5,
      "outputs": [
        {
          "output_type": "execute_result",
          "data": {
            "text/plain": [
              "tensor([0, 0, 1, 0, 0], dtype=torch.uint8)"
            ]
          },
          "metadata": {
            "tags": []
          },
          "execution_count": 5
        }
      ]
    },
    {
      "cell_type": "code",
      "metadata": {
        "id": "_q9JqWspQ1SG",
        "colab_type": "code",
        "outputId": "657f5cb6-e66a-424a-9ea8-227121e39622",
        "colab": {
          "base_uri": "https://localhost:8080/",
          "height": 34
        }
      },
      "source": [
        "get_parallel_db(db1,0).shape"
      ],
      "execution_count": 6,
      "outputs": [
        {
          "output_type": "execute_result",
          "data": {
            "text/plain": [
              "torch.Size([4999])"
            ]
          },
          "metadata": {
            "tags": []
          },
          "execution_count": 6
        }
      ]
    },
    {
      "cell_type": "markdown",
      "metadata": {
        "id": "pYcNYzAGQ6DD",
        "colab_type": "text"
      },
      "source": [
        "**If you pass an index that does not exists it does not shows an error but instead return the whole database**"
      ]
    },
    {
      "cell_type": "code",
      "metadata": {
        "id": "4ZqCbjLSQ1OK",
        "colab_type": "code",
        "outputId": "dccbc12e-406f-4999-cd37-d8991354360b",
        "colab": {
          "base_uri": "https://localhost:8080/",
          "height": 34
        }
      },
      "source": [
        "get_parallel_db(db1,5366).shape"
      ],
      "execution_count": 7,
      "outputs": [
        {
          "output_type": "execute_result",
          "data": {
            "text/plain": [
              "torch.Size([5000])"
            ]
          },
          "metadata": {
            "tags": []
          },
          "execution_count": 7
        }
      ]
    },
    {
      "cell_type": "code",
      "metadata": {
        "id": "47ECDEkcQ_JW",
        "colab_type": "code",
        "outputId": "863718d2-63a4-47fd-fde6-5dcb35a8c297",
        "colab": {
          "base_uri": "https://localhost:8080/",
          "height": 34
        }
      },
      "source": [
        "db=torch.rand(num_entries)>0.5# this is done to keep the values between 0 and 1 \n",
        "db"
      ],
      "execution_count": 8,
      "outputs": [
        {
          "output_type": "execute_result",
          "data": {
            "text/plain": [
              "tensor([0, 1, 1,  ..., 0, 0, 0], dtype=torch.uint8)"
            ]
          },
          "metadata": {
            "tags": []
          },
          "execution_count": 8
        }
      ]
    },
    {
      "cell_type": "code",
      "metadata": {
        "id": "Hpvon8foQ_F5",
        "colab_type": "code",
        "outputId": "3c7aaeda-4a3c-4f4e-fe7d-fb2b6cab4867",
        "colab": {
          "base_uri": "https://localhost:8080/",
          "height": 34
        }
      },
      "source": [
        "get_parallel_db(db,52352)"
      ],
      "execution_count": 9,
      "outputs": [
        {
          "output_type": "execute_result",
          "data": {
            "text/plain": [
              "tensor([0, 1, 1,  ..., 0, 0, 0], dtype=torch.uint8)"
            ]
          },
          "metadata": {
            "tags": []
          },
          "execution_count": 9
        }
      ]
    },
    {
      "cell_type": "code",
      "metadata": {
        "id": "S9sBIb6-Q_Ck",
        "colab_type": "code",
        "colab": {}
      },
      "source": [
        "def get_parallel_dbs(db):\n",
        "  parallel_dbs=list()\n",
        "  for i in range(len(db)):\n",
        "    pdb=get_parallel_db(db,i)\n",
        "    parallel_dbs.append(pdb)\n",
        "  return parallel_dbs"
      ],
      "execution_count": 0,
      "outputs": []
    },
    {
      "cell_type": "code",
      "metadata": {
        "id": "govSd4biQ-_G",
        "colab_type": "code",
        "outputId": "7ed9dc9d-3e75-472b-d0c3-e2239f32dbfd",
        "colab": {
          "base_uri": "https://localhost:8080/",
          "height": 105
        }
      },
      "source": [
        "pdbs=get_parallel_dbs(db)\n",
        "pdbs[0:5]"
      ],
      "execution_count": 11,
      "outputs": [
        {
          "output_type": "execute_result",
          "data": {
            "text/plain": [
              "[tensor([1, 1, 1,  ..., 0, 0, 0], dtype=torch.uint8),\n",
              " tensor([0, 1, 1,  ..., 0, 0, 0], dtype=torch.uint8),\n",
              " tensor([0, 1, 1,  ..., 0, 0, 0], dtype=torch.uint8),\n",
              " tensor([0, 1, 1,  ..., 0, 0, 0], dtype=torch.uint8),\n",
              " tensor([0, 1, 1,  ..., 0, 0, 0], dtype=torch.uint8)]"
            ]
          },
          "metadata": {
            "tags": []
          },
          "execution_count": 11
        }
      ]
    },
    {
      "cell_type": "code",
      "metadata": {
        "id": "Szlwi3y2RHkZ",
        "colab_type": "code",
        "colab": {}
      },
      "source": [
        "#this will help to have db and it's pdbs alongside together\n",
        "def create_db_and_parallels(num_entries):\n",
        "  db=torch.rand(num_entries)>0.5\n",
        "  pdbs=get_parallel_dbs(db)\n",
        "  return db,pdbs"
      ],
      "execution_count": 0,
      "outputs": []
    },
    {
      "cell_type": "code",
      "metadata": {
        "id": "7eHuvcKBRKV8",
        "colab_type": "code",
        "colab": {}
      },
      "source": [
        "db,pdbs=create_db_and_parallels(20)"
      ],
      "execution_count": 0,
      "outputs": []
    },
    {
      "cell_type": "code",
      "metadata": {
        "id": "_fRk5S8bRNzo",
        "colab_type": "code",
        "outputId": "1e384863-669a-4669-bc9f-73e8ef758aa0",
        "colab": {
          "base_uri": "https://localhost:8080/",
          "height": 52
        }
      },
      "source": [
        "db"
      ],
      "execution_count": 14,
      "outputs": [
        {
          "output_type": "execute_result",
          "data": {
            "text/plain": [
              "tensor([1, 0, 0, 0, 0, 1, 1, 1, 1, 0, 1, 1, 1, 1, 1, 1, 1, 1, 0, 1],\n",
              "       dtype=torch.uint8)"
            ]
          },
          "metadata": {
            "tags": []
          },
          "execution_count": 14
        }
      ]
    },
    {
      "cell_type": "code",
      "metadata": {
        "id": "n2mijLsTRNvf",
        "colab_type": "code",
        "outputId": "23f4e296-17e3-48a5-ba35-71f78f1c2cb6",
        "colab": {
          "base_uri": "https://localhost:8080/",
          "height": 721
        }
      },
      "source": [
        "pdbs"
      ],
      "execution_count": 15,
      "outputs": [
        {
          "output_type": "execute_result",
          "data": {
            "text/plain": [
              "[tensor([0, 0, 0, 0, 1, 1, 1, 1, 0, 1, 1, 1, 1, 1, 1, 1, 1, 0, 1],\n",
              "        dtype=torch.uint8),\n",
              " tensor([1, 0, 0, 0, 1, 1, 1, 1, 0, 1, 1, 1, 1, 1, 1, 1, 1, 0, 1],\n",
              "        dtype=torch.uint8),\n",
              " tensor([1, 0, 0, 0, 1, 1, 1, 1, 0, 1, 1, 1, 1, 1, 1, 1, 1, 0, 1],\n",
              "        dtype=torch.uint8),\n",
              " tensor([1, 0, 0, 0, 1, 1, 1, 1, 0, 1, 1, 1, 1, 1, 1, 1, 1, 0, 1],\n",
              "        dtype=torch.uint8),\n",
              " tensor([1, 0, 0, 0, 1, 1, 1, 1, 0, 1, 1, 1, 1, 1, 1, 1, 1, 0, 1],\n",
              "        dtype=torch.uint8),\n",
              " tensor([1, 0, 0, 0, 0, 1, 1, 1, 0, 1, 1, 1, 1, 1, 1, 1, 1, 0, 1],\n",
              "        dtype=torch.uint8),\n",
              " tensor([1, 0, 0, 0, 0, 1, 1, 1, 0, 1, 1, 1, 1, 1, 1, 1, 1, 0, 1],\n",
              "        dtype=torch.uint8),\n",
              " tensor([1, 0, 0, 0, 0, 1, 1, 1, 0, 1, 1, 1, 1, 1, 1, 1, 1, 0, 1],\n",
              "        dtype=torch.uint8),\n",
              " tensor([1, 0, 0, 0, 0, 1, 1, 1, 0, 1, 1, 1, 1, 1, 1, 1, 1, 0, 1],\n",
              "        dtype=torch.uint8),\n",
              " tensor([1, 0, 0, 0, 0, 1, 1, 1, 1, 1, 1, 1, 1, 1, 1, 1, 1, 0, 1],\n",
              "        dtype=torch.uint8),\n",
              " tensor([1, 0, 0, 0, 0, 1, 1, 1, 1, 0, 1, 1, 1, 1, 1, 1, 1, 0, 1],\n",
              "        dtype=torch.uint8),\n",
              " tensor([1, 0, 0, 0, 0, 1, 1, 1, 1, 0, 1, 1, 1, 1, 1, 1, 1, 0, 1],\n",
              "        dtype=torch.uint8),\n",
              " tensor([1, 0, 0, 0, 0, 1, 1, 1, 1, 0, 1, 1, 1, 1, 1, 1, 1, 0, 1],\n",
              "        dtype=torch.uint8),\n",
              " tensor([1, 0, 0, 0, 0, 1, 1, 1, 1, 0, 1, 1, 1, 1, 1, 1, 1, 0, 1],\n",
              "        dtype=torch.uint8),\n",
              " tensor([1, 0, 0, 0, 0, 1, 1, 1, 1, 0, 1, 1, 1, 1, 1, 1, 1, 0, 1],\n",
              "        dtype=torch.uint8),\n",
              " tensor([1, 0, 0, 0, 0, 1, 1, 1, 1, 0, 1, 1, 1, 1, 1, 1, 1, 0, 1],\n",
              "        dtype=torch.uint8),\n",
              " tensor([1, 0, 0, 0, 0, 1, 1, 1, 1, 0, 1, 1, 1, 1, 1, 1, 1, 0, 1],\n",
              "        dtype=torch.uint8),\n",
              " tensor([1, 0, 0, 0, 0, 1, 1, 1, 1, 0, 1, 1, 1, 1, 1, 1, 1, 0, 1],\n",
              "        dtype=torch.uint8),\n",
              " tensor([1, 0, 0, 0, 0, 1, 1, 1, 1, 0, 1, 1, 1, 1, 1, 1, 1, 1, 1],\n",
              "        dtype=torch.uint8),\n",
              " tensor([1, 0, 0, 0, 0, 1, 1, 1, 1, 0, 1, 1, 1, 1, 1, 1, 1, 1, 0],\n",
              "        dtype=torch.uint8)]"
            ]
          },
          "metadata": {
            "tags": []
          },
          "execution_count": 15
        }
      ]
    },
    {
      "cell_type": "markdown",
      "metadata": {
        "id": "R8pwzAHqRV4M",
        "colab_type": "text"
      },
      "source": [
        "**So we have learned till now about how to create a function which let's us generate every parallel databse to a given input database**"
      ]
    }
  ]
}